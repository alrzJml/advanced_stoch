{
 "cells": [
  {
   "attachments": {},
   "cell_type": "markdown",
   "metadata": {},
   "source": [
    "# Calculate YTM for 3 Bonds"
   ]
  },
  {
   "cell_type": "code",
   "execution_count": 3,
   "metadata": {},
   "outputs": [],
   "source": [
    "import pandas as pd\n",
    "import numpy as np\n",
    "import persiantools.jdatetime as jdt"
   ]
  },
  {
   "attachments": {},
   "cell_type": "markdown",
   "metadata": {},
   "source": [
    "### This Function Calculates a bond's YTM given its price, face_value and maturity(in years):"
   ]
  },
  {
   "cell_type": "code",
   "execution_count": 2,
   "metadata": {},
   "outputs": [],
   "source": [
    "def calculate_ytm(price, face_value, maturity):\n",
    "    return ((face_value / price) ** (1/maturity)) - 1"
   ]
  },
  {
   "attachments": {},
   "cell_type": "markdown",
   "metadata": {},
   "source": [
    "### This Function Converts a Jalali date to Gregorian date. The input format is an int in the format of YYYYMMDD."
   ]
  },
  {
   "cell_type": "code",
   "execution_count": 24,
   "metadata": {},
   "outputs": [],
   "source": [
    "def to_gregorian(date):\n",
    "    date = str(date)\n",
    "    year = int(date[0:4])\n",
    "    month = int(date[4:6])\n",
    "    day = int(date[6:8])\n",
    "    return jdt.JalaliDate(year, month, day).to_gregorian()"
   ]
  },
  {
   "attachments": {},
   "cell_type": "markdown",
   "metadata": {},
   "source": [
    "## اخزا001"
   ]
  },
  {
   "cell_type": "code",
   "execution_count": 25,
   "metadata": {},
   "outputs": [
    {
     "name": "stdout",
     "output_type": "stream",
     "text": [
      "YTM for اخزا001 is 25.63%\n"
     ]
    }
   ],
   "source": [
    "symbol = 'اخزا001'\n",
    "price = 721_090\n",
    "face_value = 1_000_000\n",
    "maturity_date = 14030821\n",
    "today = 14020317\n",
    "maturity = to_gregorian(maturity_date) - to_gregorian(today)\n",
    "\n",
    "ytm = calculate_ytm(price, face_value, maturity.days/365)\n",
    "print(f'YTM for {symbol} is {ytm:.2%}')"
   ]
  },
  {
   "attachments": {},
   "cell_type": "markdown",
   "metadata": {},
   "source": [
    "## اخزا103"
   ]
  },
  {
   "cell_type": "code",
   "execution_count": 21,
   "metadata": {},
   "outputs": [
    {
     "name": "stdout",
     "output_type": "stream",
     "text": [
      "YTM for اخزا۱۰۳ is 26.04%\n"
     ]
    }
   ],
   "source": [
    "symbol = 'اخزا103'\n",
    "price = 603_730\n",
    "face_value = 1_000_000\n",
    "maturity_date = 14040520\n",
    "today = 14020317\n",
    "maturity = to_gregorian(maturity_date) - to_gregorian(today)\n",
    "\n",
    "ytm = calculate_ytm(price, face_value, maturity.days/365)\n",
    "print(f'YTM for {symbol} is {ytm:.2%}')"
   ]
  },
  {
   "attachments": {},
   "cell_type": "markdown",
   "metadata": {},
   "source": [
    "## گام020613"
   ]
  },
  {
   "cell_type": "code",
   "execution_count": 23,
   "metadata": {},
   "outputs": [
    {
     "name": "stdout",
     "output_type": "stream",
     "text": [
      "YTM for گام020613 is 29.67%\n"
     ]
    }
   ],
   "source": [
    "symbol = 'گام020613'\n",
    "price = 926_000\n",
    "face_value = 1_000_000\n",
    "maturity_date = 14020631\n",
    "today = 14020316\n",
    "maturity = to_gregorian(maturity_date) - to_gregorian(today)\n",
    "\n",
    "ytm = calculate_ytm(price, face_value, maturity.days/365)\n",
    "print(f'YTM for {symbol} is {ytm:.2%}')"
   ]
  },
  {
   "attachments": {},
   "cell_type": "markdown",
   "metadata": {},
   "source": [
    "**All YTMs are equal to what is calculates in the Farabourse website.**"
   ]
  }
 ],
 "metadata": {
  "kernelspec": {
   "display_name": "Python 3",
   "language": "python",
   "name": "python3"
  },
  "language_info": {
   "codemirror_mode": {
    "name": "ipython",
    "version": 3
   },
   "file_extension": ".py",
   "mimetype": "text/x-python",
   "name": "python",
   "nbconvert_exporter": "python",
   "pygments_lexer": "ipython3",
   "version": "3.9.14"
  },
  "orig_nbformat": 4
 },
 "nbformat": 4,
 "nbformat_minor": 2
}
