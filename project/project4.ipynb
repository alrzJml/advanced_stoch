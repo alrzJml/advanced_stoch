{
 "cells": [
  {
   "cell_type": "markdown",
   "metadata": {},
   "source": [
    "1. calculate rolling 45d std\n",
    "2. calulcate implied volatility\n",
    "3. cacluate VaR of the nex 45d\n",
    "4. calculate the VaR using std and implied volatility\n",
    "5. compare them"
   ]
  },
  {
   "cell_type": "code",
   "execution_count": 1,
   "metadata": {},
   "outputs": [],
   "source": [
    "from src.data import Option\n",
    "option = Option(\n",
    "    tag=\"SHASTA_CALL\",\n",
    "    stock_symbol=\"شستا\",\n",
    "    option_symbol=\"ضستا6006\",\n",
    "    strike=1065,\n",
    "    maturity_date=\"1402-06-08\",\n",
    "    call=True\n",
    ")"
   ]
  },
  {
   "cell_type": "code",
   "execution_count": 2,
   "metadata": {},
   "outputs": [],
   "source": [
    "from src.data import fetch_data\n",
    "df = fetch_data(option=option)"
   ]
  },
  {
   "cell_type": "code",
   "execution_count": 3,
   "metadata": {},
   "outputs": [],
   "source": [
    "from src.data import add_std, add_T, add_rf\n",
    "df = add_std(df, rolling_window=90)\n",
    "df.rename(columns={\"std\": \"rolling_std\"}, inplace=True)\n",
    "df = add_T(option=option, data=df)\n",
    "df = add_rf(data=df)"
   ]
  },
  {
   "cell_type": "code",
   "execution_count": 4,
   "metadata": {},
   "outputs": [],
   "source": [
    "df['stock_returns'] = df['S0'].pct_change()"
   ]
  },
  {
   "cell_type": "code",
   "execution_count": 6,
   "metadata": {},
   "outputs": [],
   "source": [
    "# add 45 days rolling Value at risk\n",
    "df['rolling_VaR'] = df['stock_returns'].rolling(90).quantile(0.05)"
   ]
  },
  {
   "cell_type": "code",
   "execution_count": 7,
   "metadata": {},
   "outputs": [],
   "source": [
    "from src.options import Volatility\n",
    "\n",
    "import pandas as pd\n",
    "import numpy as np\n",
    "def calc_implied_vol(row):\n",
    "    if any(pd.isnull(row)):\n",
    "        return np.nan\n",
    "    return Volatility.implied_volatility(row['S0'], option.strike, row['T'], row['rf'], row['actual_option'], row['rolling_std'])"
   ]
  },
  {
   "cell_type": "code",
   "execution_count": 8,
   "metadata": {},
   "outputs": [
    {
     "name": "stderr",
     "output_type": "stream",
     "text": [
      "/Users/ali/Documents/advanced_stochastic/project/src/options.py:384: RuntimeWarning: divide by zero encountered in scalar divide\n",
      "  sigma_est -= (\n",
      "/Users/ali/Documents/advanced_stochastic/project/src/options.py:352: RuntimeWarning: invalid value encountered in scalar divide\n",
      "  d1 = (math.log(S / K) + (r + 0.5 * sigma ** 2) * T) / \\\n",
      "/Users/ali/Documents/advanced_stochastic/project/src/options.py:354: RuntimeWarning: invalid value encountered in scalar divide\n",
      "  d2 = (math.log(S / K) + (r - 0.5 * sigma ** 2) * T) / \\\n",
      "/Users/ali/Documents/advanced_stochastic/project/src/options.py:363: RuntimeWarning: invalid value encountered in scalar divide\n",
      "  d1 = (math.log(S / K) + (r + 0.5 * sigma ** 2) * T) / \\\n"
     ]
    }
   ],
   "source": [
    "df['implied_vol'] = df.apply(calc_implied_vol, axis=1)"
   ]
  },
  {
   "cell_type": "code",
   "execution_count": 9,
   "metadata": {},
   "outputs": [
    {
     "data": {
      "text/html": [
       "<div>\n",
       "<style scoped>\n",
       "    .dataframe tbody tr th:only-of-type {\n",
       "        vertical-align: middle;\n",
       "    }\n",
       "\n",
       "    .dataframe tbody tr th {\n",
       "        vertical-align: top;\n",
       "    }\n",
       "\n",
       "    .dataframe thead th {\n",
       "        text-align: right;\n",
       "    }\n",
       "</style>\n",
       "<table border=\"1\" class=\"dataframe\">\n",
       "  <thead>\n",
       "    <tr style=\"text-align: right;\">\n",
       "      <th></th>\n",
       "      <th>date</th>\n",
       "      <th>S0</th>\n",
       "      <th>actual_option</th>\n",
       "      <th>rolling_std</th>\n",
       "      <th>T</th>\n",
       "      <th>rf</th>\n",
       "      <th>stock_returns</th>\n",
       "      <th>rolling_VaR</th>\n",
       "      <th>implied_vol</th>\n",
       "    </tr>\n",
       "  </thead>\n",
       "  <tbody>\n",
       "    <tr>\n",
       "      <th>0</th>\n",
       "      <td>2022-04-10</td>\n",
       "      <td>1029.0</td>\n",
       "      <td>NaN</td>\n",
       "      <td>NaN</td>\n",
       "      <td>1.389041</td>\n",
       "      <td>NaN</td>\n",
       "      <td>NaN</td>\n",
       "      <td>NaN</td>\n",
       "      <td>NaN</td>\n",
       "    </tr>\n",
       "    <tr>\n",
       "      <th>1</th>\n",
       "      <td>2022-04-11</td>\n",
       "      <td>1017.0</td>\n",
       "      <td>NaN</td>\n",
       "      <td>NaN</td>\n",
       "      <td>1.386301</td>\n",
       "      <td>NaN</td>\n",
       "      <td>-0.011662</td>\n",
       "      <td>NaN</td>\n",
       "      <td>NaN</td>\n",
       "    </tr>\n",
       "    <tr>\n",
       "      <th>2</th>\n",
       "      <td>2022-04-12</td>\n",
       "      <td>975.0</td>\n",
       "      <td>NaN</td>\n",
       "      <td>NaN</td>\n",
       "      <td>1.383562</td>\n",
       "      <td>NaN</td>\n",
       "      <td>-0.041298</td>\n",
       "      <td>NaN</td>\n",
       "      <td>NaN</td>\n",
       "    </tr>\n",
       "    <tr>\n",
       "      <th>3</th>\n",
       "      <td>2022-04-13</td>\n",
       "      <td>983.0</td>\n",
       "      <td>NaN</td>\n",
       "      <td>NaN</td>\n",
       "      <td>1.380822</td>\n",
       "      <td>NaN</td>\n",
       "      <td>0.008205</td>\n",
       "      <td>NaN</td>\n",
       "      <td>NaN</td>\n",
       "    </tr>\n",
       "    <tr>\n",
       "      <th>4</th>\n",
       "      <td>2022-04-16</td>\n",
       "      <td>985.0</td>\n",
       "      <td>NaN</td>\n",
       "      <td>NaN</td>\n",
       "      <td>1.372603</td>\n",
       "      <td>NaN</td>\n",
       "      <td>0.002035</td>\n",
       "      <td>NaN</td>\n",
       "      <td>NaN</td>\n",
       "    </tr>\n",
       "    <tr>\n",
       "      <th>...</th>\n",
       "      <td>...</td>\n",
       "      <td>...</td>\n",
       "      <td>...</td>\n",
       "      <td>...</td>\n",
       "      <td>...</td>\n",
       "      <td>...</td>\n",
       "      <td>...</td>\n",
       "      <td>...</td>\n",
       "      <td>...</td>\n",
       "    </tr>\n",
       "    <tr>\n",
       "      <th>280</th>\n",
       "      <td>2023-07-01</td>\n",
       "      <td>1274.0</td>\n",
       "      <td>274.0</td>\n",
       "      <td>0.344096</td>\n",
       "      <td>0.164384</td>\n",
       "      <td>0.2622</td>\n",
       "      <td>-0.007788</td>\n",
       "      <td>-0.033737</td>\n",
       "      <td>0.539575</td>\n",
       "    </tr>\n",
       "    <tr>\n",
       "      <th>281</th>\n",
       "      <td>2023-07-02</td>\n",
       "      <td>1286.0</td>\n",
       "      <td>295.0</td>\n",
       "      <td>0.344029</td>\n",
       "      <td>0.161644</td>\n",
       "      <td>0.2622</td>\n",
       "      <td>0.009419</td>\n",
       "      <td>-0.033737</td>\n",
       "      <td>0.641743</td>\n",
       "    </tr>\n",
       "    <tr>\n",
       "      <th>282</th>\n",
       "      <td>2023-07-03</td>\n",
       "      <td>1306.0</td>\n",
       "      <td>295.0</td>\n",
       "      <td>0.342731</td>\n",
       "      <td>0.158904</td>\n",
       "      <td>0.2622</td>\n",
       "      <td>0.015552</td>\n",
       "      <td>-0.033737</td>\n",
       "      <td>0.481984</td>\n",
       "    </tr>\n",
       "    <tr>\n",
       "      <th>283</th>\n",
       "      <td>2023-07-04</td>\n",
       "      <td>1316.0</td>\n",
       "      <td>320.0</td>\n",
       "      <td>0.342697</td>\n",
       "      <td>0.156164</td>\n",
       "      <td>0.2622</td>\n",
       "      <td>0.007657</td>\n",
       "      <td>-0.033737</td>\n",
       "      <td>0.656965</td>\n",
       "    </tr>\n",
       "    <tr>\n",
       "      <th>284</th>\n",
       "      <td>2023-07-05</td>\n",
       "      <td>1315.0</td>\n",
       "      <td>338.0</td>\n",
       "      <td>0.341881</td>\n",
       "      <td>0.153425</td>\n",
       "      <td>0.2622</td>\n",
       "      <td>-0.000760</td>\n",
       "      <td>-0.033737</td>\n",
       "      <td>0.820877</td>\n",
       "    </tr>\n",
       "  </tbody>\n",
       "</table>\n",
       "<p>285 rows × 9 columns</p>\n",
       "</div>"
      ],
      "text/plain": [
       "          date      S0  actual_option  rolling_std         T      rf  \\\n",
       "0   2022-04-10  1029.0            NaN          NaN  1.389041     NaN   \n",
       "1   2022-04-11  1017.0            NaN          NaN  1.386301     NaN   \n",
       "2   2022-04-12   975.0            NaN          NaN  1.383562     NaN   \n",
       "3   2022-04-13   983.0            NaN          NaN  1.380822     NaN   \n",
       "4   2022-04-16   985.0            NaN          NaN  1.372603     NaN   \n",
       "..         ...     ...            ...          ...       ...     ...   \n",
       "280 2023-07-01  1274.0          274.0     0.344096  0.164384  0.2622   \n",
       "281 2023-07-02  1286.0          295.0     0.344029  0.161644  0.2622   \n",
       "282 2023-07-03  1306.0          295.0     0.342731  0.158904  0.2622   \n",
       "283 2023-07-04  1316.0          320.0     0.342697  0.156164  0.2622   \n",
       "284 2023-07-05  1315.0          338.0     0.341881  0.153425  0.2622   \n",
       "\n",
       "     stock_returns  rolling_VaR  implied_vol  \n",
       "0              NaN          NaN          NaN  \n",
       "1        -0.011662          NaN          NaN  \n",
       "2        -0.041298          NaN          NaN  \n",
       "3         0.008205          NaN          NaN  \n",
       "4         0.002035          NaN          NaN  \n",
       "..             ...          ...          ...  \n",
       "280      -0.007788    -0.033737     0.539575  \n",
       "281       0.009419    -0.033737     0.641743  \n",
       "282       0.015552    -0.033737     0.481984  \n",
       "283       0.007657    -0.033737     0.656965  \n",
       "284      -0.000760    -0.033737     0.820877  \n",
       "\n",
       "[285 rows x 9 columns]"
      ]
     },
     "execution_count": 9,
     "metadata": {},
     "output_type": "execute_result"
    }
   ],
   "source": [
    "df"
   ]
  },
  {
   "cell_type": "code",
   "execution_count": 34,
   "metadata": {},
   "outputs": [
    {
     "data": {
      "text/plain": [
       "<Axes: >"
      ]
     },
     "execution_count": 34,
     "metadata": {},
     "output_type": "execute_result"
    },
    {
     "data": {
      "image/png": "[encoded data removed]",
      "text/plain": [
       "<Figure size 640x480 with 1 Axes>"
      ]
     },
     "metadata": {},
     "output_type": "display_data"
    }
   ],
   "source": [
    "# Assuming df is your DataFrame\n",
    "from scipy.stats import norm\n",
    "# Computing VaR at 95% confidence level using rolling_std\n",
    "Z_95 = norm.ppf(1-0.05)\n",
    "df['rolling_std_VaR'] = - Z_95 * df['rolling_std'] * np.sqrt(1/252)\n",
    "\n",
    "# Computing VaR at 95% confidence level using implied_vol\n",
    "df['implied_vol_VaR'] = - Z_95 * df['implied_vol'] * np.sqrt(1/252)\n",
    "\n",
    "# Now you have three VaR columns: rolling_VaR, rolling_std_VaR, and implied_vol_VaR.\n",
    "# All are in the same units, so they can be directly compared.\n",
    "# Let's plot them over time:\n",
    "df[['rolling_VaR', 'rolling_std_VaR', 'implied_vol_VaR']].plot()"
   ]
  }
 ],
 "metadata": {
  "kernelspec": {
   "display_name": "venv",
   "language": "python",
   "name": "python3"
  },
  "language_info": {
   "codemirror_mode": {
    "name": "ipython",
    "version": 3
   },
   "file_extension": ".py",
   "mimetype": "text/x-python",
   "name": "python",
   "nbconvert_exporter": "python",
   "pygments_lexer": "ipython3",
   "version": "3.9.14"
  },
  "orig_nbformat": 4
 },
 "nbformat": 4,
 "nbformat_minor": 2
}
