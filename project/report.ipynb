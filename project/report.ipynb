{
 "cells": [
  {
   "attachments": {},
   "cell_type": "markdown",
   "metadata": {},
   "source": [
    "# Project Report\n",
    "Advanced Stochastic Processes"
   ]
  },
  {
   "attachments": {},
   "cell_type": "markdown",
   "metadata": {},
   "source": [
    "## Comparison between option pricing methods"
   ]
  },
  {
   "attachments": {},
   "cell_type": "markdown",
   "metadata": {},
   "source": [
    "### Preleminary"
   ]
  },
  {
   "attachments": {},
   "cell_type": "markdown",
   "metadata": {},
   "source": [
    "In this section we compute the option price of 5 Iranian options and compare the preditions with the actual price of options in the market. We try to make a conclusion on which method is best fit for Iran's Market."
   ]
  },
  {
   "attachments": {},
   "cell_type": "markdown",
   "metadata": {},
   "source": [
    "### Bionomial option pricing"
   ]
  },
  {
   "attachments": {},
   "cell_type": "markdown",
   "metadata": {},
   "source": [
    "```python\n",
    "import numpy as np\n",
    "\n",
    "# Parameters\n",
    "s0 = 100.0  # underlying stock price at t = 0\n",
    "K = 105.0   # strike price\n",
    "T = 1.0     # expiry\n",
    "r = 0.05    # risk-free rate\n",
    "v = 0.2     # volatility of the underlying stock\n",
    "N = 50      # number of time steps\n",
    "dt = T / N  # time step\n",
    "u = np.exp(v * np.sqrt(dt))  # up factor\n",
    "d = 1 / u  # down factor\n",
    "\n",
    "# Risk-neutral probability\n",
    "p = (np.exp(r * dt) - d) / (u - d)\n",
    "\n",
    "# Price tree\n",
    "price_tree = np.zeros([N + 1, N + 1])\n",
    "for i in range(N + 1):\n",
    "    for j in range(i + 1):\n",
    "        price_tree[j, i] = s0 * (d ** j) * (u ** (i - j))\n",
    "\n",
    "# Option value at each final node is max(S - K, 0)\n",
    "option_tree = np.zeros([N + 1, N + 1])\n",
    "option_tree[:, N] = np.maximum(np.zeros(N + 1), price_tree[:, N] - K)\n",
    "\n",
    "# Calculate option price at t = 0\n",
    "for i in np.arange(N - 1, -1, -1):\n",
    "    for j in np.arange(0, i + 1):\n",
    "        option_tree[j, i] = np.exp(-r * dt) * (p * option_tree[j, i + 1] + (1 - p) * option_tree[j + 1, i + 1])\n",
    "\n",
    "```"
   ]
  },
  {
   "attachments": {},
   "cell_type": "markdown",
   "metadata": {},
   "source": []
  }
 ],
 "metadata": {
  "language_info": {
   "name": "python"
  },
  "orig_nbformat": 4
 },
 "nbformat": 4,
 "nbformat_minor": 2
}
