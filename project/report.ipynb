{
 "cells": [
  {
   "attachments": {},
   "cell_type": "markdown",
   "metadata": {},
   "source": [
    "# Project Report\n",
    "Advanced Stochastic Processes"
   ]
  },
  {
   "attachments": {},
   "cell_type": "markdown",
   "metadata": {},
   "source": [
    "## Comparison between option pricing methods"
   ]
  },
  {
   "attachments": {},
   "cell_type": "markdown",
   "metadata": {},
   "source": [
    "### Preleminary"
   ]
  },
  {
   "attachments": {},
   "cell_type": "markdown",
   "metadata": {},
   "source": [
    "In this section we compute the option price of 5 Iranian options and compare the preditions with the actual price of options in the market. We try to make a conclusion on which method is best fit for Iran's Market."
   ]
  },
  {
   "attachments": {},
   "cell_type": "markdown",
   "metadata": {},
   "source": [
    "### Bionomial option pricing"
   ]
  },
  {
   "cell_type": "code",
   "execution_count": 99,
   "metadata": {},
   "outputs": [],
   "source": [
    "from src.data import Option\n",
    "\n",
    "option1 = Option(\n",
    "    stock_symbol=\"شستا\",\n",
    "    option_symbol=\"ضستا5004\",\n",
    "    strike=1500,\n",
    "    maturity_date=\"1402-05-11\",\n",
    "    call=True,\n",
    ")\n",
    "\n",
    "from src.data import fetch_data\n",
    "data=fetch_data(option1)\n",
    "\n",
    "from src.data import add_std, add_rf, add_T\n",
    "data=add_std(data)\n",
    "data=add_rf(data)\n",
    "data = add_T(option1, data)\n",
    "\n",
    "from src.options import Bionomial\n",
    "data = Bionomial.add_price(option1, data)"
   ]
  },
  {
   "cell_type": "code",
   "execution_count": 101,
   "metadata": {},
   "outputs": [
    {
     "data": {
      "text/html": [
       "<div>\n",
       "<style scoped>\n",
       "    .dataframe tbody tr th:only-of-type {\n",
       "        vertical-align: middle;\n",
       "    }\n",
       "\n",
       "    .dataframe tbody tr th {\n",
       "        vertical-align: top;\n",
       "    }\n",
       "\n",
       "    .dataframe thead th {\n",
       "        text-align: right;\n",
       "    }\n",
       "</style>\n",
       "<table border=\"1\" class=\"dataframe\">\n",
       "  <thead>\n",
       "    <tr style=\"text-align: right;\">\n",
       "      <th></th>\n",
       "      <th>date</th>\n",
       "      <th>S0</th>\n",
       "      <th>actual_option</th>\n",
       "      <th>std</th>\n",
       "      <th>rf</th>\n",
       "      <th>T</th>\n",
       "      <th>binPrice</th>\n",
       "    </tr>\n",
       "  </thead>\n",
       "  <tbody>\n",
       "    <tr>\n",
       "      <th>273</th>\n",
       "      <td>2023-06-14</td>\n",
       "      <td>1295.0</td>\n",
       "      <td>63.0</td>\n",
       "      <td>0.358240</td>\n",
       "      <td>0.2660</td>\n",
       "      <td>0.134247</td>\n",
       "      <td>19.821425</td>\n",
       "    </tr>\n",
       "    <tr>\n",
       "      <th>274</th>\n",
       "      <td>2023-06-17</td>\n",
       "      <td>1290.0</td>\n",
       "      <td>52.0</td>\n",
       "      <td>0.355120</td>\n",
       "      <td>0.2612</td>\n",
       "      <td>0.126027</td>\n",
       "      <td>16.219204</td>\n",
       "    </tr>\n",
       "    <tr>\n",
       "      <th>275</th>\n",
       "      <td>2023-06-18</td>\n",
       "      <td>1273.0</td>\n",
       "      <td>47.0</td>\n",
       "      <td>0.355566</td>\n",
       "      <td>0.2534</td>\n",
       "      <td>0.123288</td>\n",
       "      <td>12.439464</td>\n",
       "    </tr>\n",
       "    <tr>\n",
       "      <th>276</th>\n",
       "      <td>2023-06-19</td>\n",
       "      <td>1281.0</td>\n",
       "      <td>43.0</td>\n",
       "      <td>0.355306</td>\n",
       "      <td>0.2512</td>\n",
       "      <td>0.120548</td>\n",
       "      <td>12.988097</td>\n",
       "    </tr>\n",
       "    <tr>\n",
       "      <th>277</th>\n",
       "      <td>2023-06-20</td>\n",
       "      <td>1297.0</td>\n",
       "      <td>41.0</td>\n",
       "      <td>0.354314</td>\n",
       "      <td>0.2541</td>\n",
       "      <td>0.117808</td>\n",
       "      <td>15.303124</td>\n",
       "    </tr>\n",
       "    <tr>\n",
       "      <th>278</th>\n",
       "      <td>2023-06-21</td>\n",
       "      <td>1316.0</td>\n",
       "      <td>45.0</td>\n",
       "      <td>0.351377</td>\n",
       "      <td>0.2622</td>\n",
       "      <td>0.115068</td>\n",
       "      <td>18.241922</td>\n",
       "    </tr>\n",
       "    <tr>\n",
       "      <th>279</th>\n",
       "      <td>2023-06-24</td>\n",
       "      <td>1317.0</td>\n",
       "      <td>44.0</td>\n",
       "      <td>0.350917</td>\n",
       "      <td>0.2622</td>\n",
       "      <td>0.106849</td>\n",
       "      <td>16.265995</td>\n",
       "    </tr>\n",
       "    <tr>\n",
       "      <th>280</th>\n",
       "      <td>2023-06-25</td>\n",
       "      <td>1335.0</td>\n",
       "      <td>40.0</td>\n",
       "      <td>0.341784</td>\n",
       "      <td>0.2622</td>\n",
       "      <td>0.104110</td>\n",
       "      <td>18.004407</td>\n",
       "    </tr>\n",
       "    <tr>\n",
       "      <th>281</th>\n",
       "      <td>2023-06-26</td>\n",
       "      <td>1329.0</td>\n",
       "      <td>31.0</td>\n",
       "      <td>0.342021</td>\n",
       "      <td>0.2622</td>\n",
       "      <td>0.101370</td>\n",
       "      <td>16.141123</td>\n",
       "    </tr>\n",
       "    <tr>\n",
       "      <th>282</th>\n",
       "      <td>2023-06-27</td>\n",
       "      <td>1304.0</td>\n",
       "      <td>23.0</td>\n",
       "      <td>0.343904</td>\n",
       "      <td>0.2622</td>\n",
       "      <td>0.098630</td>\n",
       "      <td>11.039096</td>\n",
       "    </tr>\n",
       "  </tbody>\n",
       "</table>\n",
       "</div>"
      ],
      "text/plain": [
       "          date      S0  actual_option       std      rf         T   binPrice\n",
       "273 2023-06-14  1295.0           63.0  0.358240  0.2660  0.134247  19.821425\n",
       "274 2023-06-17  1290.0           52.0  0.355120  0.2612  0.126027  16.219204\n",
       "275 2023-06-18  1273.0           47.0  0.355566  0.2534  0.123288  12.439464\n",
       "276 2023-06-19  1281.0           43.0  0.355306  0.2512  0.120548  12.988097\n",
       "277 2023-06-20  1297.0           41.0  0.354314  0.2541  0.117808  15.303124\n",
       "278 2023-06-21  1316.0           45.0  0.351377  0.2622  0.115068  18.241922\n",
       "279 2023-06-24  1317.0           44.0  0.350917  0.2622  0.106849  16.265995\n",
       "280 2023-06-25  1335.0           40.0  0.341784  0.2622  0.104110  18.004407\n",
       "281 2023-06-26  1329.0           31.0  0.342021  0.2622  0.101370  16.141123\n",
       "282 2023-06-27  1304.0           23.0  0.343904  0.2622  0.098630  11.039096"
      ]
     },
     "execution_count": 101,
     "metadata": {},
     "output_type": "execute_result"
    }
   ],
   "source": [
    "data.tail(10)"
   ]
  },
  {
   "cell_type": "code",
   "execution_count": 98,
   "metadata": {},
   "outputs": [
    {
     "name": "stdout",
     "output_type": "stream",
     "text": [
      "The autoreload extension is already loaded. To reload it, use:\n",
      "  %reload_ext autoreload\n"
     ]
    }
   ],
   "source": [
    "%load_ext autoreload\n",
    "%autoreload 2\n"
   ]
  }
 ],
 "metadata": {
  "kernelspec": {
   "display_name": "venv",
   "language": "python",
   "name": "python3"
  },
  "language_info": {
   "codemirror_mode": {
    "name": "ipython",
    "version": 3
   },
   "file_extension": ".py",
   "mimetype": "text/x-python",
   "name": "python",
   "nbconvert_exporter": "python",
   "pygments_lexer": "ipython3",
   "version": "3.10.6"
  },
  "orig_nbformat": 4
 },
 "nbformat": 4,
 "nbformat_minor": 2
}
